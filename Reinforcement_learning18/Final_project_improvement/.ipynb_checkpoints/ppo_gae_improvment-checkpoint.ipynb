{
 "cells": [
  {
   "cell_type": "code",
   "execution_count": 46,
   "metadata": {},
   "outputs": [],
   "source": [
    "import math\n",
    "import random\n",
    "\n",
    "import gym\n",
    "import numpy as np\n",
    "\n",
    "import torch\n",
    "import torch.nn as nn\n",
    "import torch.optim as optim\n",
    "import torch.nn.functional as F\n",
    "from torch.distributions import Normal"
   ]
  },
  {
   "cell_type": "code",
   "execution_count": 47,
   "metadata": {},
   "outputs": [],
   "source": [
    "from IPython.display import clear_output\n",
    "import matplotlib.pyplot as plt\n",
    "%matplotlib inline"
   ]
  },
  {
   "cell_type": "markdown",
   "metadata": {},
   "source": [
    "<h2>Use CUDA</h2>"
   ]
  },
  {
   "cell_type": "code",
   "execution_count": 48,
   "metadata": {},
   "outputs": [],
   "source": [
    "use_cuda = torch.cuda.is_available()\n",
    "device   = torch.device(\"cuda\" if use_cuda else \"cpu\")"
   ]
  },
  {
   "cell_type": "markdown",
   "metadata": {},
   "source": [
    "<h2>Create Environments</h2>"
   ]
  },
  {
   "cell_type": "code",
   "execution_count": 49,
   "metadata": {},
   "outputs": [
    {
     "name": "stderr",
     "output_type": "stream",
     "text": [
      "[2018-06-14 18:59:03,305] Making new env: FrozenLake-v0\n"
     ]
    }
   ],
   "source": [
    "from common.multiprocessing_env import SubprocVecEnv\n",
    "\n",
    "num_envs = 16\n",
    "# env_name = \"Pendulum-v0\"\n",
    "env_name = \"FrozenLake-v0\"\n",
    "\n",
    "# def make_env():\n",
    "#     def _thunk():\n",
    "#         env = gym.make(env_name)\n",
    "#         return env\n",
    "\n",
    "#     return _thunk\n",
    "\n",
    "# envs = [make_env() for i in range(num_envs)]\n",
    "# envs = SubprocVecEnv(envs)\n",
    "\n",
    "env = gym.make(env_name)"
   ]
  },
  {
   "cell_type": "markdown",
   "metadata": {},
   "source": [
    "<h2>Neural Network</h2>"
   ]
  },
  {
   "cell_type": "code",
   "execution_count": 50,
   "metadata": {},
   "outputs": [],
   "source": [
    "def init_weights(m):\n",
    "    if isinstance(m, nn.Linear):\n",
    "        nn.init.normal_(m.weight, mean=0., std=0.1)\n",
    "        nn.init.constant_(m.bias, 0.1)\n",
    "        \n",
    "\n",
    "class ActorCritic(nn.Module):\n",
    "    def __init__(self, num_inputs, num_outputs, hidden_size, std=0.0):\n",
    "        super(ActorCritic, self).__init__()\n",
    "        \n",
    "        self.critic = nn.Sequential(\n",
    "            nn.Linear(num_inputs, hidden_size),\n",
    "            nn.ReLU(),\n",
    "            nn.Linear(hidden_size, 1)\n",
    "        )\n",
    "        \n",
    "        self.actor = nn.Sequential(\n",
    "            nn.Linear(num_inputs, hidden_size),\n",
    "            nn.ReLU(),\n",
    "            nn.Linear(hidden_size, num_outputs),\n",
    "        )\n",
    "        self.log_std = nn.Parameter(torch.ones(1, num_outputs) * std)\n",
    "        \n",
    "        self.apply(init_weights)\n",
    "        \n",
    "    def forward(self, x):\n",
    "        value = self.critic(x)\n",
    "        mu    = self.actor(x)\n",
    "        std   = self.log_std.exp().expand_as(mu)\n",
    "        dist  = Normal(mu, std)\n",
    "        return dist, value"
   ]
  },
  {
   "cell_type": "code",
   "execution_count": 51,
   "metadata": {},
   "outputs": [],
   "source": [
    "def state_fix(evir,states):\n",
    "    new_state = np.zeros(evir.observation_space.n)\n",
    "    new_state[states] =  1\n",
    "    return new_state"
   ]
  },
  {
   "cell_type": "code",
   "execution_count": 53,
   "metadata": {},
   "outputs": [],
   "source": [
    "def plot(frame_idx, rewards):\n",
    "    clear_output(True)\n",
    "    plt.figure(figsize=(20,5))\n",
    "    plt.subplot(131)\n",
    "    plt.title('frame %s. reward: %s' % (frame_idx, rewards[-1]))\n",
    "    plt.plot(rewards)\n",
    "    plt.show()\n",
    "    \n",
    "def test_env(model,vis=False):\n",
    "    state = env.reset()\n",
    "    state = state_fix(env,state)\n",
    "    if vis: env.render()\n",
    "    done = False\n",
    "    total_reward = 0\n",
    "    while not done:\n",
    "        state = torch.FloatTensor(state).unsqueeze(0).to(device)\n",
    "        dist, _ = model(state)\n",
    "        action = np.argmax(dist.sample().cpu().numpy()[0])\n",
    "        next_state, reward, done, _ = env.step(action)\n",
    "        state = next_state\n",
    "        state = state_fix(env,state)\n",
    "        if vis: env.render()\n",
    "        total_reward += reward\n",
    "    return total_reward"
   ]
  },
  {
   "cell_type": "markdown",
   "metadata": {},
   "source": [
    "<h2>GAE</h2>"
   ]
  },
  {
   "cell_type": "code",
   "execution_count": 54,
   "metadata": {},
   "outputs": [],
   "source": [
    "def compute_gae(next_value, rewards, masks, values, gamma=0.99, tau=0.95):\n",
    "    values = values + [next_value]\n",
    "    gae = 0\n",
    "    returns = []\n",
    "    for step in reversed(range(len(rewards))):\n",
    "        delta = rewards[step] + gamma * values[step + 1] * masks[step] - values[step]\n",
    "        gae = delta + gamma * tau * masks[step] * gae\n",
    "        returns.insert(0, gae + values[step])\n",
    "    return returns"
   ]
  },
  {
   "cell_type": "markdown",
   "metadata": {},
   "source": [
    "<h1> Proximal Policy Optimization Algorithm</h1>\n",
    "<h2><a href=\"https://arxiv.org/abs/1707.06347\">Arxiv</a></h2>"
   ]
  },
  {
   "cell_type": "code",
   "execution_count": 55,
   "metadata": {},
   "outputs": [],
   "source": [
    "def ppo_iter(mini_batch_size, states, actions, log_probs, returns, advantage):\n",
    "    batch_size = states.size(0)\n",
    "    for _ in range(batch_size // mini_batch_size):\n",
    "        rand_ids = np.random.randint(0, batch_size, mini_batch_size)\n",
    "        yield states[rand_ids, :], actions[rand_ids, :], log_probs[rand_ids, :], returns[rand_ids, :], advantage[rand_ids, :]\n",
    "        \n",
    "        \n",
    "\n",
    "def ppo_update(ppo_epochs, mini_batch_size, states, actions, log_probs, returns, advantages,model, optimizer,clip_param=0.2):\n",
    "    for _ in range(ppo_epochs):\n",
    "        for state, action, old_log_probs, return_, advantage in ppo_iter(mini_batch_size, states, actions, log_probs, returns, advantages):\n",
    "            dist, value = model(state)\n",
    "            entropy = dist.entropy().mean()\n",
    "            new_log_probs = dist.log_prob(action)\n",
    "\n",
    "            ratio = (new_log_probs - old_log_probs).exp()\n",
    "            surr1 = ratio * advantage\n",
    "            surr2 = torch.clamp(ratio, 1.0 - clip_param, 1.0 + clip_param) * advantage\n",
    "\n",
    "            actor_loss  = - torch.min(surr1, surr2).mean()\n",
    "            critic_loss = (return_ - value).pow(2).mean()\n",
    "\n",
    "            loss = 0.5 * critic_loss + actor_loss - 0.001 * entropy\n",
    "\n",
    "            optimizer.zero_grad()\n",
    "            loss.backward()\n",
    "            optimizer.step()"
   ]
  },
  {
   "cell_type": "code",
   "execution_count": 56,
   "metadata": {},
   "outputs": [],
   "source": [
    "# num_inputs  = envs.observation_space.shape[0]\n",
    "# num_outputs = envs.action_space.shape[0]\n",
    "    \n",
    "def inizilize_prams():\n",
    "    num_inputs = env.observation_space.n\n",
    "    num_outputs = env.action_space.n\n",
    "\n",
    "    #Hyper params:\n",
    "    hidden_size      = 55#256\n",
    "    lr               = 3e-4\n",
    "    num_steps        = 17\n",
    "    mini_batch_size  = 5\n",
    "    ppo_epochs       = 4\n",
    "    threshold_reward = 10\n",
    "\n",
    "    model = ActorCritic(num_inputs, num_outputs, hidden_size).to(device)\n",
    "    optimizer = optim.Adam(model.parameters(), lr=lr)\n",
    "\n",
    "    max_frames = 10000\n",
    "    frame_idx  = 0\n",
    "    test_rewards = []\n",
    "\n",
    "    state = env.reset()\n",
    "    state = state_fix(env,state)\n",
    "    done = False\n",
    "    early_stop = False"
   ]
  },
  {
   "cell_type": "code",
   "execution_count": 57,
   "metadata": {},
   "outputs": [],
   "source": [
    "\n",
    "\n",
    "def running_params(gamma_tune, tau_tune):\n",
    "\n",
    "    num_inputs = env.observation_space.n\n",
    "    num_outputs = env.action_space.n\n",
    "\n",
    "    #Hyper params:\n",
    "    hidden_size      = 55#256\n",
    "    lr               = 3e-4\n",
    "    num_steps        = 17\n",
    "    mini_batch_size  = 5\n",
    "    ppo_epochs       = 4\n",
    "    threshold_reward = 10\n",
    "\n",
    "    model = ActorCritic(num_inputs, num_outputs, hidden_size).to(device)\n",
    "    optimizer = optim.Adam(model.parameters(), lr=lr)\n",
    "\n",
    "    max_frames = 10000\n",
    "    frame_idx  = 0\n",
    "    test_rewards = []\n",
    "\n",
    "    state = env.reset()\n",
    "    state = state_fix(env,state)\n",
    "    done = False\n",
    "    early_stop = False\n",
    "    \n",
    "    \n",
    "    \n",
    "    \n",
    "    while frame_idx < max_frames and not early_stop:\n",
    "\n",
    "        log_probs = []\n",
    "        values    = []\n",
    "        states    = []\n",
    "        actions   = []\n",
    "        rewards   = []\n",
    "        masks     = []\n",
    "        entropy = 0\n",
    "\n",
    "        for _ in range(num_steps):\n",
    "        #while not done:\n",
    "            #print(\"start\")\n",
    "            state = torch.FloatTensor(state).to(device).unsqueeze(0)\n",
    "            dist, value = model(state)\n",
    "\n",
    "            action = dist.sample()\n",
    "            action_value = np.argmax(action.cpu().numpy()[0])\n",
    "            next_state, reward, done, _ = env.step(action_value)\n",
    "\n",
    "            log_prob = dist.log_prob(action)\n",
    "            entropy += dist.entropy().mean()\n",
    "\n",
    "            log_probs.append(log_prob)\n",
    "            values.append(value)\n",
    "            rewards.append(reward)\n",
    "            masks.append(1 - done)\n",
    "\n",
    "            states.append(state)\n",
    "            actions.append(action)\n",
    "\n",
    "            state = next_state\n",
    "            state = state_fix(env,state)\n",
    "            frame_idx += 1\n",
    "\n",
    "            if frame_idx % 1000 == 0:\n",
    "                test_reward = np.mean([test_env(model) for _ in range(10)])\n",
    "                test_rewards.append(test_reward)\n",
    "                plot(frame_idx, test_rewards)\n",
    "                if test_reward > threshold_reward: early_stop = True\n",
    "\n",
    "        #print(\"next_state\", next_state)\n",
    "        next_state = state_fix(env,next_state)\n",
    "        next_state = torch.FloatTensor(next_state).to(device).unsqueeze(0)\n",
    "        _, next_value = model(next_state)\n",
    "\n",
    "\n",
    "        returns = compute_gae(next_value, rewards, masks, values,gamma_tune, tau_tune)\n",
    "\n",
    "        returns   = torch.cat(returns).detach()\n",
    "        log_probs = torch.cat(log_probs).detach()\n",
    "        values    = torch.cat(values).detach()\n",
    "        states    = torch.cat(states)\n",
    "        actions   = torch.cat(actions)\n",
    "        advantage = returns - values\n",
    "\n",
    "        ppo_update(ppo_epochs, mini_batch_size, states, actions, log_probs, returns, advantage,model, optimizer)\n",
    "\n",
    "        values = []\n",
    "        policy = []\n",
    "        for state_plt in range(0,16):\n",
    "            state_plt = state_fix(env,state_plt)\n",
    "            state_plt = torch.FloatTensor(state_plt).to(device).unsqueeze(0)\n",
    "            dist, value = model(state_plt)\n",
    "            action = np.argmax(dist.sample().cpu().numpy()[0])\n",
    "            policy.append(action)\n",
    "            values.append(value)\n",
    "        #print(\"end_Values\", values)\n",
    "        #print(\"end_Policy\", policy)\n",
    "    return (policy,values, np.sum(test_rewards),(gamma_tune, tau_tune))"
   ]
  },
  {
   "cell_type": "markdown",
   "metadata": {},
   "source": [
    "<h1>Running through parameters</h1>"
   ]
  },
  {
   "cell_type": "code",
   "execution_count": null,
   "metadata": {},
   "outputs": [
    {
     "data": {
      "image/png": "[encoded data removed]",
      "text/plain": [
       "<Figure size 1440x360 with 1 Axes>"
      ]
     },
     "metadata": {},
     "output_type": "display_data"
    }
   ],
   "source": [
    "gamma_tau_opt = []\n",
    "top_rewards_9up = np.zeros((20,20))\n",
    "top_rewards = np.zeros((10,10))\n",
    "tick = -1\n",
    "\n",
    "# for gamma_tune in range(0,9):\n",
    "#     for tau_tune in range(0,9):\n",
    "#         returns = running_params(gamma_tune/10, tau_tune/10)\n",
    "#         #min_reward_place = min(top_rewards)\n",
    "#         #if top_rewards[min_reward_place] < returns[2]:\n",
    "#         top_rewards[gamma_tune][tau_tune] = returns[2]\n",
    "#         gamma_tau_opt.append(returns)\n",
    "\n",
    "eight_up = [.81,.82,.83,.84,.85,.86,.87,.88,.89,.90,.91,.92,.93,.94,.95,.96,.97,.98,.99,1]\n",
    "tock = -1\n",
    "for gamma_tune in range(81,101):\n",
    "    tick += 1\n",
    "    tock = -1\n",
    "    for tau_tune in range(81,101):\n",
    "        tock += 1\n",
    "        returns = running_params(gamma_tune/100,tau_tune/100)\n",
    "        top_rewards_9up[tick][tock] = returns[2]\n",
    "        gamma_tau_opt.append(returns)"
   ]
  },
  {
   "cell_type": "code",
   "execution_count": null,
   "metadata": {},
   "outputs": [],
   "source": [
    "#print(\"gamm_tao\", gamma_tau_opt)\n",
    "#print(\"top_rewards\", top_rewards)\n",
    "plt.imshow(top_rewards, cmap='hot', interpolation='nearest')\n",
    "\n",
    "plt.imshow(top_rewards_9up_cp, cmap='hot', interpolation='nearest')\n",
    "# plt.imshow(top_rewards_9up, cmap='hot', interpolation='nearest')\n"
   ]
  }
 ],
 "metadata": {
  "kernelspec": {
   "display_name": "Python 3",
   "language": "python",
   "name": "python3"
  },
  "language_info": {
   "codemirror_mode": {
    "name": "ipython",
    "version": 3
   },
   "file_extension": ".py",
   "mimetype": "text/x-python",
   "name": "python",
   "nbconvert_exporter": "python",
   "pygments_lexer": "ipython3",
   "version": "3.6.4"
  }
 },
 "nbformat": 4,
 "nbformat_minor": 2
}
