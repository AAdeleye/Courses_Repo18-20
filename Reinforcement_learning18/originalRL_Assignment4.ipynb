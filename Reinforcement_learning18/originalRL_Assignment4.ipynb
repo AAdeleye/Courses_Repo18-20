{
 "cells": [
  {
   "cell_type": "code",
   "execution_count": 39,
   "metadata": {},
   "outputs": [],
   "source": [
    "import math\n",
    "import random\n",
    "\n",
    "import gym\n",
    "import numpy as np\n",
    "\n",
    "import torch\n",
    "import torch.nn as nn\n",
    "import torch.optim as optim\n",
    "import torch.nn.functional as F\n",
    "from torch.distributions import Normal\n",
    "\n",
    "import os\n",
    "logdir='./DDPG/'\n",
    "logging_interval = 100\n",
    "animate_interval = logging_interval * 5"
   ]
  },
  {
   "cell_type": "code",
   "execution_count": 40,
   "metadata": {},
   "outputs": [],
   "source": [
    "from IPython.display import clear_output\n",
    "import matplotlib.pyplot as plt\n",
    "%matplotlib inline"
   ]
  },
  {
   "cell_type": "code",
   "execution_count": null,
   "metadata": {},
   "outputs": [],
   "source": []
  },
  {
   "cell_type": "code",
   "execution_count": 41,
   "metadata": {},
   "outputs": [],
   "source": [
    "use_cuda = torch.cuda.is_available()\n",
    "device   = torch.device(\"cuda\" if use_cuda else \"cpu\")"
   ]
  },
  {
   "cell_type": "code",
   "execution_count": null,
   "metadata": {},
   "outputs": [],
   "source": []
  },
  {
   "cell_type": "code",
   "execution_count": 42,
   "metadata": {},
   "outputs": [
    {
     "name": "stderr",
     "output_type": "stream",
     "text": [
      "[2018-06-02 16:22:11,302] Making new env: Ant-v1\n",
      "[2018-06-02 16:22:11,337] Making new env: Ant-v1\n",
      "[2018-06-02 16:22:11,366] Making new env: Ant-v1\n",
      "[2018-06-02 16:22:11,397] Making new env: Ant-v1\n",
      "[2018-06-02 16:22:11,427] Making new env: Ant-v1\n",
      "[2018-06-02 16:22:11,460] Making new env: Ant-v1\n",
      "[2018-06-02 16:22:11,492] Making new env: Ant-v1\n",
      "[2018-06-02 16:22:11,527] Making new env: Ant-v1\n",
      "[2018-06-02 16:22:11,563] Making new env: Ant-v1\n",
      "[2018-06-02 16:22:11,598] Making new env: Ant-v1\n",
      "[2018-06-02 16:22:11,632] Making new env: Ant-v1\n",
      "[2018-06-02 16:22:11,666] Making new env: Ant-v1\n",
      "[2018-06-02 16:22:11,701] Making new env: Ant-v1\n",
      "[2018-06-02 16:22:11,807] Making new env: Ant-v1\n",
      "[2018-06-02 16:22:11,737] Making new env: Ant-v1\n",
      "[2018-06-02 16:22:11,772] Making new env: Ant-v1\n",
      "[2018-06-02 16:22:11,807] Making new env: Ant-v1\n"
     ]
    }
   ],
   "source": [
    "from common.multiprocessing_env import SubprocVecEnv\n",
    "\n",
    "#num_envs = 16\n",
    "num_envs = 16\n",
    "#env_name = \"Pendulum-v0\"\n",
    "# env_name = 'HalfCheetah-v1'\n",
    "env_name = 'Ant-v1'\n",
    "\n",
    "def make_env():\n",
    "    def _thunk():\n",
    "        env = gym.make(env_name)\n",
    "        return env\n",
    "\n",
    "    return _thunk\n",
    "\n",
    "envs = [make_env() for i in range(num_envs)]\n",
    "envs = SubprocVecEnv(envs)\n",
    "\n",
    "env = gym.make(env_name)"
   ]
  },
  {
   "cell_type": "code",
   "execution_count": 43,
   "metadata": {},
   "outputs": [
    {
     "name": "stderr",
     "output_type": "stream",
     "text": [
      "[2018-06-02 16:22:12,631] Clearing 2 monitor files from previous run (because force=True was provided)\n"
     ]
    }
   ],
   "source": [
    "VISUALIZE = True\n",
    "SEED = 0 \n",
    "MAX_PATH_LENGTH = 500 \n",
    "NUM_EPISODES = 12000\n",
    "if VISUALIZE:\n",
    "    if not os.path.exists(logdir):\n",
    "        os.mkdir(logdir)\n",
    "    env = gym.wrappers.Monitor(env, logdir, force=True, video_callable=lambda episode_id: episode_id%logging_interval==0)\n",
    "\n",
    "#Need to look through code more before setting this. \n",
    "#env._max_episode_steps = MAX_PATH_LENGTH"
   ]
  },
  {
   "cell_type": "code",
   "execution_count": null,
   "metadata": {},
   "outputs": [],
   "source": []
  },
  {
   "cell_type": "code",
   "execution_count": 44,
   "metadata": {},
   "outputs": [],
   "source": [
    "def init_weights(m):\n",
    "    if isinstance(m, nn.Linear):\n",
    "        nn.init.normal_(m.weight, mean=0., std=0.1)\n",
    "        nn.init.constant_(m.bias, 0.1)\n",
    "\n",
    "\n",
    "class ActorCritic(nn.Module):\n",
    "    def __init__(self, num_inputs, num_outputs, hidden_size, std=0.0):\n",
    "        super(ActorCritic, self).__init__()\n",
    "        \n",
    "        self.critic = nn.Sequential(\n",
    "            nn.Linear(num_inputs, hidden_size),\n",
    "            nn.ReLU(),\n",
    "            nn.Linear(hidden_size, 1)\n",
    "        )\n",
    "        \n",
    "        self.actor = nn.Sequential(\n",
    "            nn.Linear(num_inputs, hidden_size),\n",
    "            nn.ReLU(),\n",
    "            nn.Linear(hidden_size, num_outputs),\n",
    "        )\n",
    "        self.log_std = nn.Parameter(torch.ones(1, num_outputs) * std)\n",
    "        \n",
    "        self.apply(init_weights)\n",
    "        \n",
    "    def forward(self, x):\n",
    "        value = self.critic(x)\n",
    "        mu    = self.actor(x)\n",
    "        std   = self.log_std.exp().expand_as(mu)\n",
    "        dist  = Normal(mu, std)\n",
    "        return dist, value"
   ]
  },
  {
   "cell_type": "code",
   "execution_count": 45,
   "metadata": {},
   "outputs": [],
   "source": [
    "def plot(frame_idx, rewards):\n",
    "    clear_output(True)\n",
    "    plt.figure(figsize=(20,5))\n",
    "    plt.subplot(131)\n",
    "    plt.title('frame %s. reward: %s' % (frame_idx, rewards[-1]))\n",
    "    plt.plot(rewards)\n",
    "    plt.show()\n",
    "    \n",
    "def test_env(vis=False):\n",
    "    state = env.reset()\n",
    "    if vis: env.render()\n",
    "    done = False\n",
    "    total_reward = 0\n",
    "    while not done:\n",
    "        state = torch.FloatTensor(state).unsqueeze(0).to(device)\n",
    "        dist, _ = model(state)\n",
    "        next_state, reward, done, _ = env.step(dist.sample().cpu().numpy()[0])\n",
    "        state = next_state\n",
    "        if vis: env.render()\n",
    "        total_reward += reward\n",
    "    return total_reward"
   ]
  },
  {
   "cell_type": "code",
   "execution_count": 46,
   "metadata": {},
   "outputs": [],
   "source": [
    "def createStandardDeviation(vis=False):\n",
    "    all_std = [test_env(vis) for x in range(100)]\n",
    "    sd = np.std(all_std)\n",
    "    print (\"all_std: \", all_std)\n",
    "    print (\"The standard deviation of the model is: \", sd)\n",
    "    return sd"
   ]
  },
  {
   "cell_type": "code",
   "execution_count": null,
   "metadata": {},
   "outputs": [],
   "source": []
  },
  {
   "cell_type": "code",
   "execution_count": 47,
   "metadata": {},
   "outputs": [],
   "source": [
    "def compute_gae(next_value, rewards, masks, values, gamma=0.99, tau=0.95):\n",
    "    values = values + [next_value]\n",
    "    gae = 0\n",
    "    returns = []\n",
    "    for step in reversed(range(len(rewards))):\n",
    "        delta = rewards[step] + gamma * values[step + 1] * masks[step] - values[step]\n",
    "        gae = delta + gamma * tau * masks[step] * gae\n",
    "        returns.insert(0, gae + values[step])\n",
    "    return returns"
   ]
  },
  {
   "cell_type": "code",
   "execution_count": 48,
   "metadata": {},
   "outputs": [],
   "source": [
    "num_inputs  = envs.observation_space.shape[0]\n",
    "num_outputs = envs.action_space.shape[0]\n",
    "\n",
    "#Hyper params:\n",
    "hidden_size = 256\n",
    "lr          = 3e-4\n",
    "num_steps   = 20\n",
    "\n",
    "model = ActorCritic(num_inputs, num_outputs, hidden_size).to(device)\n",
    "optimizer = optim.Adam(model.parameters())"
   ]
  },
  {
   "cell_type": "code",
   "execution_count": 53,
   "metadata": {},
   "outputs": [],
   "source": [
    "max_frames   = 200000\n",
    "frame_idx    = 0\n",
    "test_rewards = []"
   ]
  },
  {
   "cell_type": "code",
   "execution_count": null,
   "metadata": {},
   "outputs": [
    {
     "data": {
      "image/png": "[encoded data removed]",
      "text/plain": [
       "<Figure size 1440x360 with 1 Axes>"
      ]
     },
     "metadata": {},
     "output_type": "display_data"
    }
   ],
   "source": [
    "state = envs.reset()\n",
    "\n",
    "while frame_idx < max_frames:\n",
    "\n",
    "    log_probs = []\n",
    "    values    = []\n",
    "    rewards   = []\n",
    "    masks     = []\n",
    "    entropy = 0\n",
    "\n",
    "    for _ in range(num_steps):\n",
    "        state = torch.FloatTensor(state).to(device)\n",
    "        dist, value = model(state)\n",
    "\n",
    "        action = dist.sample()\n",
    "        next_state, reward, done, _ = envs.step(action.cpu().numpy())\n",
    "\n",
    "        log_prob = dist.log_prob(action)\n",
    "        entropy += dist.entropy().mean()\n",
    "        \n",
    "        log_probs.append(log_prob)\n",
    "        values.append(value)\n",
    "        rewards.append(torch.FloatTensor(reward).unsqueeze(1).to(device))\n",
    "        masks.append(torch.FloatTensor(1 - done).unsqueeze(1).to(device))\n",
    "        \n",
    "        state = next_state\n",
    "        frame_idx += 1\n",
    "        \n",
    "        if frame_idx % 1000 == 0:\n",
    "            test_rewards.append(np.mean([test_env() for _ in range(10)]))\n",
    "            plot(frame_idx, test_rewards)\n",
    "            \n",
    "    next_state = torch.FloatTensor(next_state).to(device)\n",
    "    _, next_value = model(next_state)\n",
    "    returns = compute_gae(next_value, rewards, masks, values)\n",
    "    \n",
    "    log_probs = torch.cat(log_probs)\n",
    "    returns   = torch.cat(returns).detach()\n",
    "    values    = torch.cat(values)\n",
    "\n",
    "    advantage = returns - values\n",
    "\n",
    "    actor_loss  = -(log_probs * advantage.detach()).mean()\n",
    "    critic_loss = advantage.pow(2).mean()\n",
    "\n",
    "    loss = actor_loss + 0.5 * critic_loss - 0.001 * entropy\n",
    "\n",
    "    optimizer.zero_grad()\n",
    "    loss.backward()\n",
    "    optimizer.step()"
   ]
  },
  {
   "cell_type": "code",
   "execution_count": 21,
   "metadata": {},
   "outputs": [
    {
     "name": "stderr",
     "output_type": "stream",
     "text": [
      "[2018-06-02 15:04:28,452] GLFW error: 65544, desc: b'X11: RandR gamma ramp support seems broken'\n",
      "[2018-06-02 15:04:28,515] GLFW error: 65544, desc: b'Linux: Failed to watch for joystick connections in /dev/input: No such file or directory'\n",
      "[2018-06-02 15:04:28,516] GLFW error: 65544, desc: b'Linux: Failed to open joystick device directory /dev/input: No such file or directory'\n"
     ]
    },
    {
     "data": {
      "text/plain": [
       "225.16011333567994"
      ]
     },
     "execution_count": 21,
     "metadata": {},
     "output_type": "execute_result"
    }
   ],
   "source": [
    "test_env(True)"
   ]
  },
  {
   "cell_type": "code",
   "execution_count": 34,
   "metadata": {},
   "outputs": [
    {
     "name": "stdout",
     "output_type": "stream",
     "text": [
      "all_std:  [245.32730637182178, 185.56450925350327, 71.43748949348914, 195.46510792666376, 179.1592635658391, 136.46488990989187, 253.3932777703557, 165.46836673923164, 260.4099857791463, 199.0367115495298, 245.68968807111014, 238.0439856830492, 252.38661459866654, 219.31271701920377, -3.180815778664051, 237.31282985288132, -9.899585482645065, 241.7891060712056, 254.7622284703094, 183.04266649760098, 224.10658655370509, 219.30767760272752, 243.58179826389303, 283.42619934059314, 142.2701606793781, 202.53211241809703, 178.682636366366, 273.8356704429122, 235.86934659691858, 261.06926904641983, 234.36395524233703, 278.28542349608443, 216.89002773287535, 176.12020381994196, 186.0463089583327, -36.98947513378438, 203.0748142517854, 261.7052522419867, 233.61451921708795, 206.3551271050541, 157.1417956530054, 246.17282164075107, 246.92845122936657, 282.5747713951106, 222.81674704309114, 191.01820379518702, 170.88269084376586, 169.30486591476588, 261.0981518442797, 232.31622988542597, 243.23164000918254, 204.17980758361838, 104.26110198918741, 205.66526348214182, 257.476142113326, 242.03715275973738, 278.2415572995981, 229.0537756010863, 205.75323260076397, 217.99003518351552, 105.63878386773244, 236.46531676436362, 219.81417141556977, 177.34757683341505, 269.5197487106668, 235.91371201205294, 148.9623687013581, 256.41209397658076, 282.92118687237564, 280.88841062688283, 226.16372750590662, 206.55546247241847, -5.959911897529931, 293.0594657176796, 143.9034594666345, 267.89995128259767, 195.61311509706513, 267.797404367105, 200.46495933521075, 218.6429526398233, 234.62908728470063, 138.0733769757165, 178.14163502984036, 111.31076469877209, 225.97079905285034, 236.38032142800128, 196.29018471268304, 263.483985976271, 243.24809361560114, 233.5205860492137, 246.89262512841603, 281.3717449333293, 183.89202913016737, 277.86657518086815, 229.7745200823417, 106.75513229428346, -104.89504579140704, 279.5262395702249, 313.90219324472764, 308.49559010613376]\n",
      "The standard deviation of the model is:  73.0113317873192\n"
     ]
    },
    {
     "data": {
      "text/plain": [
       "73.0113317873192"
      ]
     },
     "execution_count": 34,
     "metadata": {},
     "output_type": "execute_result"
    }
   ],
   "source": [
    "createStandardDeviation(False)"
   ]
  },
  {
   "cell_type": "code",
   "execution_count": null,
   "metadata": {},
   "outputs": [],
   "source": [
    "def plot_withStd(frame_idx, rewards):\n",
    "    stdVal = createStandardDeviation(False)\n",
    "    \n",
    "    clear_output(True)\n",
    "    plt.figure(figsize=(20,5))\n",
    "    plt.subplot(131)\n",
    "    plt.title('frame %s. reward: %s standard deviation: %s' % (frame_idx, rewards[-1], stdVal))\n",
    "    plt.plot(rewards)\n",
    "    plt.show()"
   ]
  },
  {
   "cell_type": "code",
   "execution_count": 38,
   "metadata": {},
   "outputs": [],
   "source": [
    "torch.save(model.state_dict(), './DDPG/ant_model_stateDict')"
   ]
  }
 ],
 "metadata": {
  "kernelspec": {
   "display_name": "Python 3",
   "language": "python",
   "name": "python3"
  },
  "language_info": {
   "codemirror_mode": {
    "name": "ipython",
    "version": 3
   },
   "file_extension": ".py",
   "mimetype": "text/x-python",
   "name": "python",
   "nbconvert_exporter": "python",
   "pygments_lexer": "ipython3",
   "version": "3.6.4"
  }
 },
 "nbformat": 4,
 "nbformat_minor": 2
}
